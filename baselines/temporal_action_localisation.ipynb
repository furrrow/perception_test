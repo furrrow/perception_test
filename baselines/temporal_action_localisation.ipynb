{
  "nbformat": 4,
  "nbformat_minor": 0,
  "metadata": {
    "colab": {
      "provenance": [],
      "gpuType": "T4",
      "include_colab_link": true
    },
    "kernelspec": {
      "name": "python3",
      "display_name": "Python 3"
    },
    "language_info": {
      "name": "python"
    },
    "accelerator": "GPU"
  },
  "cells": [
    {
      "cell_type": "markdown",
      "metadata": {
        "id": "view-in-github",
        "colab_type": "text"
      },
      "source": [
        "<a href=\"https://colab.research.google.com/github/deepmind/perception_test/blob/main/baselines/temporal_action_localisation.ipynb\" target=\"_parent\"><img src=\"https://colab.research.google.com/assets/colab-badge.svg\" alt=\"Open In Colab\"/></a>"
      ]
    },
    {
      "cell_type": "markdown",
      "source": [
        "Copyright 2023 DeepMind Technologies Limited\n",
        "\n",
        "Licensed under the Apache License, Version 2.0 (the \"License\");\n",
        "you may not use this file except in compliance with the License.\n",
        "You may obtain a copy of the License at [https://www.apache.org/licenses/LICENSE-2.0](https://www.apache.org/licenses/LICENSE-2.0).\n",
        "Unless required by applicable law or agreed to in writing, software\n",
        "distributed under the License is distributed on an \"AS IS\" BASIS,\n",
        "WITHOUT WARRANTIES OR CONDITIONS OF ANY KIND, either express or implied.\n",
        "See the License for the specific language governing permissions and\n",
        "limitations under the License."
      ],
      "metadata": {
        "id": "9PJx-OzeSK5E"
      }
    },
    {
      "cell_type": "markdown",
      "source": [
        "# Temporal Action Localisation ActionFormer Baseline\n",
        "\n",
        "Github: https://github.com/deepmind/perception_test\n",
        "\n",
        "## The Perception Test\n",
        "[Perception Test: A Diagnostic Benchmark for Multimodal Video Models](https://arxiv.org/abs/2305.13786) is a multimodal benchmark designed to comprehensively evaluate the perception and reasoning skills of multimodal video models. The Perception Test dataset introduces real-world videos designed to show perceptually interesting situations and defines multiple computational tasks (object and point tracking, action and sound localisation, multiple-choice and grounded video question-answering). Here, we provide details and a baseline for the temporal action localisation task.\n",
        "\n",
        "[![Perception Test Overview Presentation](https://img.youtube.com/vi/8BiajMOBWdk/maxresdefault.jpg)](https://youtu.be/8BiajMOBWdk?t=10)"
      ],
      "metadata": {
        "id": "-tJWYL2oSLgu"
      }
    },
    {
      "cell_type": "markdown",
      "source": [
        "\n",
        "## Temporal Action Localisation\n",
        "In the temporal action localisation task, the model receives a video and is required to localise and classify the actions occurring in the video according to a predefined set of classes.\n",
        "\n",
        "The below image shows examples of temporal action localisation annotations. Each action is represented by a set of timestamps representing the start and end of the action along with its corresponding class label.\n",
        "\n",
        "![image](https://storage.googleapis.com/dm-perception-test/img/action_annotations.png)"
      ],
      "metadata": {
        "id": "1pxtHyrHy_4s"
      }
    },
    {
      "cell_type": "markdown",
      "source": [
        "## ActionFormer baseline\n",
        "This notebook demonstrates how to use our modified [ActionFormer repository](https://github.com/ptchallenge-workshop/actionformer_release_PT) to train and evaluate an ActionFormer model, for both video only input and combined video and audio input modalities."
      ],
      "metadata": {
        "id": "mlwAXE4nzDA3"
      }
    },
    {
      "cell_type": "code",
      "source": [
        "# Make sure GPU runtime is enabled!!"
      ],
      "metadata": {
        "id": "cEZwbpXoweWs"
      },
      "execution_count": null,
      "outputs": []
    },
    {
      "cell_type": "code",
      "execution_count": null,
      "metadata": {
        "id": "q_ljvdSjvfOR"
      },
      "outputs": [],
      "source": [
        "# @title Clone adapted ActionFormer repository and install\n",
        "!git clone https://github.com/ptchallenge-workshop/actionformer_release_PT.git\n",
        "\n",
        "%cd /content/actionformer_release_PT/libs/utils\n",
        "!python setup.py install --user\n",
        "%cd ../..\n",
        "\n",
        "# dirs for storing models and data\n",
        "!mkdir data\n",
        "!mkdir data/pt\n",
        "!mkdir ckpt"
      ]
    },
    {
      "cell_type": "code",
      "source": [
        "# @title Download Utility Function\n",
        "import os\n",
        "import zipfile\n",
        "import requests\n",
        "\n",
        "\n",
        "def download_and_unzip(url: str, destination: str):\n",
        "  \"\"\"Downloads and unzips a .zip file to a destination.\n",
        "\n",
        "  Downloads a file from the specified URL, saves it to the destination\n",
        "  directory, and then extracts its contents.\n",
        "\n",
        "  If the file is larger than 1GB, it will be downloaded in chunks,\n",
        "  and the download progress will be displayed.\n",
        "\n",
        "  Args:\n",
        "    url (str): The URL of the file to download.\n",
        "    destination (str): The destination directory to save the file and\n",
        "      extract its contents.\n",
        "  \"\"\"\n",
        "  if not os.path.exists(destination):\n",
        "    os.makedirs(destination)\n",
        "\n",
        "  filename = url.split('/')[-1]\n",
        "  file_path = os.path.join(destination, filename)\n",
        "\n",
        "  if os.path.exists(file_path):\n",
        "    print(f'{filename} already exists. Skipping download.')\n",
        "    return\n",
        "\n",
        "  response = requests.get(url, stream=True)\n",
        "  total_size = int(response.headers.get('content-length', 0))\n",
        "  gb = 1024*1024*1024\n",
        "\n",
        "  if total_size / gb > 1:\n",
        "    print(f'{filename} is larger than 1GB, downloading in chunks')\n",
        "    chunk_flag = True\n",
        "    chunk_size = int(total_size/100)\n",
        "  else:\n",
        "    chunk_flag = False\n",
        "    chunk_size = total_size\n",
        "\n",
        "  with open(file_path, 'wb') as file:\n",
        "    for chunk_idx, chunk in enumerate(\n",
        "        response.iter_content(chunk_size=chunk_size)):\n",
        "      if chunk:\n",
        "        if chunk_flag:\n",
        "          print(f\"\"\"{chunk_idx}% downloading\n",
        "          {round((chunk_idx*chunk_size)/gb, 1)}GB\n",
        "          / {round(total_size/gb, 1)}GB\"\"\")\n",
        "        file.write(chunk)\n",
        "  print(f\"'{filename}' downloaded successfully.\")\n",
        "\n",
        "  with zipfile.ZipFile(file_path, 'r') as zip_ref:\n",
        "    zip_ref.extractall(destination)\n",
        "  print(f\"'{filename}' extracted successfully.\")\n",
        "\n",
        "  os.remove(file_path)"
      ],
      "metadata": {
        "id": "E0gEbwfQxDiJ"
      },
      "execution_count": null,
      "outputs": []
    },
    {
      "cell_type": "code",
      "source": [
        "# @title Download data and pretrained model\n",
        "data_path = './data/pt'\n",
        "model_path = './ckpt'\n",
        "\n",
        "train_annot_url = 'https://storage.googleapis.com/dm-perception-test/zip_data/challenge_action_localisation_train_annotations.zip'\n",
        "download_and_unzip(train_annot_url, data_path)\n",
        "train_video_feat_url = 'https://storage.googleapis.com/dm-perception-test/zip_data/action_localisation_train_video_features.zip'\n",
        "download_and_unzip(train_video_feat_url, data_path)\n",
        "train_audio_feat_url = 'https://storage.googleapis.com/dm-perception-test/zip_data/sound_localisation_train_audio_features.zip'\n",
        "download_and_unzip(train_audio_feat_url, data_path)\n",
        "\n",
        "\n",
        "valid_annot_url = 'https://storage.googleapis.com/dm-perception-test/zip_data/challenge_action_localisation_valid_annotations.zip'\n",
        "download_and_unzip(valid_annot_url, data_path)\n",
        "valid_video_feat_url = 'https://storage.googleapis.com/dm-perception-test/zip_data/action_localisation_valid_video_features.zip'\n",
        "download_and_unzip(valid_video_feat_url, data_path)\n",
        "valid_audio_feat_url = 'https://storage.googleapis.com/dm-perception-test/zip_data/sound_localisation_valid_audio_features.zip'\n",
        "download_and_unzip(valid_audio_feat_url, data_path)\n",
        "\n",
        "# here we download a pretrained model, this can be commented out and the\n",
        "# training command below can be ran instead to train the model from scratch\n",
        "model_url = 'https://storage.googleapis.com/dm-perception-test/saved_models/perception_tal_video_train_reproduce.zip'\n",
        "download_and_unzip(model_url, model_path)"
      ],
      "metadata": {
        "id": "PoOy1uhUyusl"
      },
      "execution_count": null,
      "outputs": []
    },
    {
      "cell_type": "code",
      "source": [
        "# @title Training ActionFormer model\n",
        "# Downloading pretrained model in the cell above instead of\n",
        "# training, uncomment the line below to run command for training\n",
        "# !python3 train.py configs/perception_tal_video_train.yaml --output reproduce\n",
        "\n",
        "# multimodal version using audio features alongside video features\n",
        "# !python3 train.py configs/perception_tal_multi_train.yaml --output reproduce"
      ],
      "metadata": {
        "id": "uR8pmMJjwx2Y"
      },
      "execution_count": null,
      "outputs": []
    },
    {
      "cell_type": "code",
      "source": [
        "# @title Evaluating ActionFormer model\n",
        "\n",
        "# this saves a results JSON file in this location:\n",
        "# /content/actionformer_release_PT/ckpt/perception_video_train_reproduce/eval_results.json\n",
        "# this is in the correct format for submission on the eval.ai challenge\n",
        "# https://eval.ai/web/challenges/challenge-page/2101/overview\n",
        "!python eval.py configs/perception_tal_video_valid.yaml ckpt/perception_tal_video_train_reproduce/\n",
        "\n",
        "# multimodal version using audio features alongside video features\n",
        "# !python eval.py configs/perception_tal_multi_valid.yaml ckpt/perception_tal_multi_train_reproduce/"
      ],
      "metadata": {
        "id": "OcRUQjRMw5bp"
      },
      "execution_count": null,
      "outputs": []
    }
  ]
}